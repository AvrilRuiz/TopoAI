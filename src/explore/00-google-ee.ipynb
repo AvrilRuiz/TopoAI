{
 "cells": [
  {
   "cell_type": "code",
   "execution_count": 1,
   "metadata": {},
   "outputs": [],
   "source": [
    "%load_ext autoreload\n",
    "%autoreload 2"
   ]
  },
  {
   "cell_type": "code",
   "execution_count": 2,
   "metadata": {},
   "outputs": [
    {
     "name": "stdout",
     "output_type": "stream",
     "text": [
      "Succesful connection to Google Earth Engine!\n"
     ]
    }
   ],
   "source": [
    "import ee\n",
    "import geemap\n",
    "\n",
    "PROJECT_ID = \"ee-a01571000\"\n",
    "\n",
    "ee.Authenticate()\n",
    "ee.Initialize(project=PROJECT_ID)\n",
    "\n",
    "print(ee.String(\"Succesful connection to Google Earth Engine!\").getInfo())  # type: ignore"
   ]
  },
  {
   "cell_type": "code",
   "execution_count": 6,
   "metadata": {},
   "outputs": [
    {
     "data": {
      "text/html": [
       "\n",
       "            <style>\n",
       "                .geemap-dark {\n",
       "                    --jp-widgets-color: white;\n",
       "                    --jp-widgets-label-color: white;\n",
       "                    --jp-ui-font-color1: white;\n",
       "                    --jp-layout-color2: #454545;\n",
       "                    background-color: #383838;\n",
       "                }\n",
       "\n",
       "                .geemap-dark .jupyter-button {\n",
       "                    --jp-layout-color3: #383838;\n",
       "                }\n",
       "\n",
       "                .geemap-colab {\n",
       "                    background-color: var(--colab-primary-surface-color, white);\n",
       "                }\n",
       "\n",
       "                .geemap-colab .jupyter-button {\n",
       "                    --jp-layout-color3: var(--colab-primary-surface-color, white);\n",
       "                }\n",
       "            </style>\n",
       "            "
      ],
      "text/plain": [
       "<IPython.core.display.HTML object>"
      ]
     },
     "metadata": {},
     "output_type": "display_data"
    },
    {
     "data": {
      "application/vnd.jupyter.widget-view+json": {
       "model_id": "c8a83ea67c75461696ad5cb782dba63e",
       "version_major": 2,
       "version_minor": 0
      },
      "text/plain": [
       "Map(center=[0, 0], controls=(WidgetControl(options=['position', 'transparent_bg'], widget=SearchDataGUI(childr…"
      ]
     },
     "execution_count": 6,
     "metadata": {},
     "output_type": "execute_result"
    },
    {
     "name": "stdout",
     "output_type": "stream",
     "text": [
      "An error occurred: list assignment index out of range. The closing curly bracket could not be found in Line 56: var combinedIndices = modisNDVI.map(function(ndviImg) {\n",
      ". Please reformat the function definition and make sure that both the opening and closing curly brackets appear on the same line as the function keyword. \n"
     ]
    },
    {
     "data": {
      "application/javascript": "\n        var code = IPython.notebook.insert_cell_below('code');\n        code.set_text(atob(\"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\"));\n    ",
      "text/plain": [
       "<IPython.core.display.Javascript object>"
      ]
     },
     "metadata": {},
     "output_type": "display_data"
    },
    {
     "name": "stdout",
     "output_type": "stream",
     "text": [
      "An error occurred: list assignment index out of range. The closing curly bracket could not be found in Line 58: .map(function (ndviImg) {\n",
      ". Please reformat the function definition and make sure that both the opening and closing curly brackets appear on the same line as the function keyword. \n"
     ]
    },
    {
     "data": {
      "application/javascript": "\n        var code = IPython.notebook.insert_cell_below('code');\n        code.set_text(atob(\"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\"));\n    ",
      "text/plain": [
       "<IPython.core.display.Javascript object>"
      ]
     },
     "metadata": {},
     "output_type": "display_data"
    }
   ],
   "source": [
    "map = geemap.Map()\n",
    "map"
   ]
  },
  {
   "cell_type": "markdown",
   "metadata": {},
   "source": [
    "Enter a layer name:\n",
    "Raster\n",
    "Band:\n",
    "​\n",
    "vmin:\n",
    "​\n",
    "vmax:\n",
    "​\n",
    "Nodata:\n",
    "​\n",
    "palette:\n",
    "\n",
    "---\n",
    "\n",
    "DataSourceError Traceback (most recent call last)\n",
    "File ~/Documents/tec/7_semestre/TopoAI/.venv/lib/python3.11/site-packages/geemap/toolbar.py:1764, in open_data_widget.<locals>.ok_cancel_clicked(change)\n",
    "1754 m.add_raster(\n",
    "1755 file_path,\n",
    "1756 layer_name=layer_name.value,\n",
    "(...)\n",
    "1761 nodata=vis_nodata,\n",
    "1762 )\n",
    "1763 else:\n",
    "-> 1764 m.add_vector(file_path, style={}, layer_name=layer_name.value)\n",
    "1765 else:\n",
    "1766 print(\"Please select a file to open.\")\n",
    "\n",
    "File ~/Documents/tec/7_semestre/TopoAI/.venv/lib/python3.11/site-packages/geemap/geemap.py:2902, in Map.add_vector(self, filename, layer_name, to_ee, bbox, mask, rows, style, hover_style, style_callback, fill_colors, info_mode, encoding, **kwargs)\n",
    "2891 self.add_geojson(\n",
    "2892 filename,\n",
    "2893 layer_name,\n",
    "(...)\n",
    "2899 encoding,\n",
    "2900 )\n",
    "2901 else:\n",
    "-> 2902 geojson = vector_to_geojson(\n",
    "2903 filename,\n",
    "2904 bbox=bbox,\n",
    "2905 mask=mask,\n",
    "2906 rows=rows,\n",
    "2907 epsg=\"4326\",\n",
    "2908 **kwargs,\n",
    "2909 )\n",
    "2911 self.add_geojson(\n",
    "2912 geojson,\n",
    "2913 layer_name,\n",
    "(...)\n",
    "2919 encoding,\n",
    "2920 )\n",
    "\n",
    "File ~/Documents/tec/7_semestre/TopoAI/.venv/lib/python3.11/site-packages/geemap/common.py:9376, in vector_to_geojson(filename, out_geojson, bbox, mask, rows, epsg, **kwargs)\n",
    "9372 df = gpd.read_file(\n",
    "9373 filename, bbox=bbox, mask=mask, rows=rows, driver=\"KML\", **kwargs\n",
    "9374 )\n",
    "9375 else:\n",
    "-> 9376 df = gpd.read_file(filename, bbox=bbox, mask=mask, rows=rows, \\*\\*kwargs)\n",
    "9377 gdf = df.to_crs(epsg=epsg)\n",
    "9379 if out_geojson is not None:\n",
    "\n",
    "File ~/Documents/tec/7_semestre/TopoAI/.venv/lib/python3.11/site-packages/geopandas/io/file.py:294, in \\_read_file(filename, bbox, mask, columns, rows, engine, **kwargs)\n",
    "291 from_bytes = True\n",
    "293 if engine == \"pyogrio\":\n",
    "--> 294 return \\_read_file_pyogrio(\n",
    "295 filename, bbox=bbox, mask=mask, columns=columns, rows=rows, **kwargs\n",
    "296 )\n",
    "298 elif engine == \"fiona\":\n",
    "299 if pd.api.types.is_file_like(filename):\n",
    "\n",
    "File ~/Documents/tec/7_semestre/TopoAI/.venv/lib/python3.11/site-packages/geopandas/io/file.py:547, in \\_read_file_pyogrio(path_or_bytes, bbox, mask, rows, **kwargs)\n",
    "538 warnings.warn(\n",
    "539 \"The 'include_fields' and 'ignore_fields' keywords are deprecated, and \"\n",
    "540 \"will be removed in a future release. You can use the 'columns' keyword \"\n",
    "(...)\n",
    "543 stacklevel=3,\n",
    "544 )\n",
    "545 kwargs[\"columns\"] = kwargs.pop(\"include_fields\")\n",
    "--> 547 return pyogrio.read_dataframe(path_or_bytes, bbox=bbox, **kwargs)\n",
    "\n",
    "File ~/Documents/tec/7_semestre/TopoAI/.venv/lib/python3.11/site-packages/pyogrio/geopandas.py:261, in read_dataframe(path_or_buffer, layer, encoding, columns, read_geometry, force_2d, skip_features, max_features, where, bbox, mask, fids, sql, sql_dialect, fid_as_index, use_arrow, on_invalid, arrow_to_pandas_kwargs, **kwargs)\n",
    "256 if not use_arrow:\n",
    "257 # For arrow, datetimes are read as is.\n",
    "258 # For numpy IO, datetimes are read as string values to preserve timezone info\n",
    "259 # as numpy does not directly support timezones.\n",
    "260 kwargs[\"datetime_as_string\"] = True\n",
    "--> 261 result = read_func(\n",
    "262 path_or_buffer,\n",
    "263 layer=layer,\n",
    "264 encoding=encoding,\n",
    "265 columns=columns,\n",
    "266 read_geometry=read_geometry,\n",
    "267 force_2d=gdal_force_2d,\n",
    "268 skip_features=skip_features,\n",
    "269 max_features=max_features,\n",
    "270 where=where,\n",
    "271 bbox=bbox,\n",
    "272 mask=mask,\n",
    "273 fids=fids,\n",
    "274 sql=sql,\n",
    "275 sql_dialect=sql_dialect,\n",
    "276 return_fids=fid_as_index,\n",
    "277 **kwargs,\n",
    "278 )\n",
    "280 if use_arrow:\n",
    "281 meta, table = result\n",
    "\n",
    "File ~/Documents/tec/7_semestre/TopoAI/.venv/lib/python3.11/site-packages/pyogrio/raw.py:196, in read(path_or_buffer, layer, encoding, columns, read_geometry, force_2d, skip_features, max_features, where, bbox, mask, fids, sql, sql_dialect, return_fids, datetime_as_string, \\*\\*kwargs)\n",
    "56 \"\"\"Read OGR data source into numpy arrays.\n",
    "57\n",
    "58 IMPORTANT: non-linear geometry types (e.g., MultiSurface) are converted\n",
    "(...)\n",
    "191\n",
    "192 \"\"\"\n",
    "194 dataset_kwargs = \\_preprocess_options_key_value(kwargs) if kwargs else {}\n",
    "--> 196 return ogr_read(\n",
    "197 get_vsi_path_or_buffer(path_or_buffer),\n",
    "198 layer=layer,\n",
    "199 encoding=encoding,\n",
    "200 columns=columns,\n",
    "201 read_geometry=read_geometry,\n",
    "202 force_2d=force_2d,\n",
    "203 skip_features=skip_features,\n",
    "204 max_features=max_features or 0,\n",
    "205 where=where,\n",
    "206 bbox=bbox,\n",
    "207 mask=\\_mask_to_wkb(mask),\n",
    "208 fids=fids,\n",
    "209 sql=sql,\n",
    "210 sql_dialect=sql_dialect,\n",
    "211 return_fids=return_fids,\n",
    "212 dataset_kwargs=dataset_kwargs,\n",
    "213 datetime_as_string=datetime_as_string,\n",
    "214 )\n",
    "\n",
    "File ~/Documents/tec/7_semestre/TopoAI/.venv/lib/python3.11/site-packages/pyogrio/\\_io.pyx:1239, in pyogrio.\\_io.ogr_read()\n",
    "\n",
    "File ~/Documents/tec/7_semestre/TopoAI/.venv/lib/python3.11/site-packages/pyogrio/\\_io.pyx:219, in pyogrio.\\_io.ogr_open()\n",
    "\n",
    "DataSourceError: /home/sheldon/Documents/tec/7_semestre/TopoAI/src/explore/test: No such file or directory\n",
    "Measure\n",
    "3000 km\n",
    "2000 mi\n",
    "ipyleaflet | © OpenStreetMap contributors\n",
    "\n",
    "---\n",
    "\n",
    "NameError Traceback (most recent call last)\n",
    "Cell In[15], line 1\n",
    "----> 1 credentials\n",
    "\n",
    "NameError: name 'credentials' is not defined\n"
   ]
  },
  {
   "cell_type": "code",
   "execution_count": 5,
   "metadata": {},
   "outputs": [
    {
     "data": {
      "text/html": [
       "\n",
       "            <style>\n",
       "                .geemap-dark {\n",
       "                    --jp-widgets-color: white;\n",
       "                    --jp-widgets-label-color: white;\n",
       "                    --jp-ui-font-color1: white;\n",
       "                    --jp-layout-color2: #454545;\n",
       "                    background-color: #383838;\n",
       "                }\n",
       "\n",
       "                .geemap-dark .jupyter-button {\n",
       "                    --jp-layout-color3: #383838;\n",
       "                }\n",
       "\n",
       "                .geemap-colab {\n",
       "                    background-color: var(--colab-primary-surface-color, white);\n",
       "                }\n",
       "\n",
       "                .geemap-colab .jupyter-button {\n",
       "                    --jp-layout-color3: var(--colab-primary-surface-color, white);\n",
       "                }\n",
       "            </style>\n",
       "            "
      ],
      "text/plain": [
       "<IPython.core.display.HTML object>"
      ]
     },
     "metadata": {},
     "output_type": "display_data"
    }
   ],
   "source": [
    "# Dataset de imágenes obtenido de\n",
    "# https://developers.google.com/earth-engine/datasets/catalog/LANDSAT_LC08_C02_T1#description\n",
    "\n",
    "img_set = ee.ImageCollection(\"LANDSAT/LC08/C02/T1\")  # type: ignore\n",
    "bands = img_set.select([\"B4\", \"B3\", \"B5\"])\n",
    "\n",
    "# B3 - Green\n",
    "# B4 - Red\n",
    "# B5 - NIR (Near Infrared)\n",
    "\n",
    "# Parece que normalmente la variable L (factor de ajuste del suelo) se pone como L = 0.5\n",
    "# según en la página 4 https://catalogos.conae.gov.ar/landsat8/Docs/IndicesEspectralesDerivadosDeLandsat8.pdf\n",
    "\n",
    "visualization = {\n",
    "    min: 0.0,\n",
    "    max: 30000.0,\n",
    "}\n",
    "\n",
    "# Actualizar el mapa interactivo\n",
    "map.setCenter(-100.4, 25.73, 10)\n",
    "map.addLayer(bands, visualization, \"Green + Red + NIR\")"
   ]
  },
  {
   "cell_type": "code",
   "execution_count": 6,
   "metadata": {},
   "outputs": [
    {
     "data": {
      "text/html": [
       "\n",
       "            <style>\n",
       "                .geemap-dark {\n",
       "                    --jp-widgets-color: white;\n",
       "                    --jp-widgets-label-color: white;\n",
       "                    --jp-ui-font-color1: white;\n",
       "                    --jp-layout-color2: #454545;\n",
       "                    background-color: #383838;\n",
       "                }\n",
       "\n",
       "                .geemap-dark .jupyter-button {\n",
       "                    --jp-layout-color3: #383838;\n",
       "                }\n",
       "\n",
       "                .geemap-colab {\n",
       "                    background-color: var(--colab-primary-surface-color, white);\n",
       "                }\n",
       "\n",
       "                .geemap-colab .jupyter-button {\n",
       "                    --jp-layout-color3: var(--colab-primary-surface-color, white);\n",
       "                }\n",
       "            </style>\n",
       "            "
      ],
      "text/plain": [
       "<IPython.core.display.HTML object>"
      ]
     },
     "metadata": {},
     "output_type": "display_data"
    }
   ],
   "source": [
    "# Define the Area of Interest (AOI)\n",
    "# lat, long de esquina abajo izquiera y lat, long de esquina arriba derecha\n",
    "# Se crea un triangulo con estos dos puntos, siendo la área\n",
    "\n",
    "aoi = ee.Geometry.Rectangle(\n",
    "    [-100.3543, 25.5664, -100.3049, 25.5989]\n",
    ")  ### Aquí van las coordenadas para el área"
   ]
  },
  {
   "cell_type": "code",
   "execution_count": 7,
   "metadata": {},
   "outputs": [
    {
     "data": {
      "text/html": [
       "\n",
       "            <style>\n",
       "                .geemap-dark {\n",
       "                    --jp-widgets-color: white;\n",
       "                    --jp-widgets-label-color: white;\n",
       "                    --jp-ui-font-color1: white;\n",
       "                    --jp-layout-color2: #454545;\n",
       "                    background-color: #383838;\n",
       "                }\n",
       "\n",
       "                .geemap-dark .jupyter-button {\n",
       "                    --jp-layout-color3: #383838;\n",
       "                }\n",
       "\n",
       "                .geemap-colab {\n",
       "                    background-color: var(--colab-primary-surface-color, white);\n",
       "                }\n",
       "\n",
       "                .geemap-colab .jupyter-button {\n",
       "                    --jp-layout-color3: var(--colab-primary-surface-color, white);\n",
       "                }\n",
       "            </style>\n",
       "            "
      ],
      "text/plain": [
       "<IPython.core.display.HTML object>"
      ]
     },
     "metadata": {},
     "output_type": "display_data"
    }
   ],
   "source": [
    "# area metropolitana\n",
    "\n",
    "aoi = ee.Geometry.Rectangle(\n",
    "    [-100.432833, 25.616853, -100.124592, 25.838453]\n",
    ")  ### Aquí van las coordenadas para el área"
   ]
  },
  {
   "cell_type": "code",
   "execution_count": 8,
   "metadata": {},
   "outputs": [
    {
     "data": {
      "text/html": [
       "\n",
       "            <style>\n",
       "                .geemap-dark {\n",
       "                    --jp-widgets-color: white;\n",
       "                    --jp-widgets-label-color: white;\n",
       "                    --jp-ui-font-color1: white;\n",
       "                    --jp-layout-color2: #454545;\n",
       "                    background-color: #383838;\n",
       "                }\n",
       "\n",
       "                .geemap-dark .jupyter-button {\n",
       "                    --jp-layout-color3: #383838;\n",
       "                }\n",
       "\n",
       "                .geemap-colab {\n",
       "                    background-color: var(--colab-primary-surface-color, white);\n",
       "                }\n",
       "\n",
       "                .geemap-colab .jupyter-button {\n",
       "                    --jp-layout-color3: var(--colab-primary-surface-color, white);\n",
       "                }\n",
       "            </style>\n",
       "            "
      ],
      "text/plain": [
       "<IPython.core.display.HTML object>"
      ]
     },
     "metadata": {},
     "output_type": "display_data"
    }
   ],
   "source": [
    "# Filter the Image Collection by AOI\n",
    "filtered_images = img_set.filterBounds(aoi)"
   ]
  },
  {
   "cell_type": "code",
   "execution_count": 9,
   "metadata": {},
   "outputs": [
    {
     "data": {
      "text/html": [
       "\n",
       "            <style>\n",
       "                .geemap-dark {\n",
       "                    --jp-widgets-color: white;\n",
       "                    --jp-widgets-label-color: white;\n",
       "                    --jp-ui-font-color1: white;\n",
       "                    --jp-layout-color2: #454545;\n",
       "                    background-color: #383838;\n",
       "                }\n",
       "\n",
       "                .geemap-dark .jupyter-button {\n",
       "                    --jp-layout-color3: #383838;\n",
       "                }\n",
       "\n",
       "                .geemap-colab {\n",
       "                    background-color: var(--colab-primary-surface-color, white);\n",
       "                }\n",
       "\n",
       "                .geemap-colab .jupyter-button {\n",
       "                    --jp-layout-color3: var(--colab-primary-surface-color, white);\n",
       "                }\n",
       "            </style>\n",
       "            "
      ],
      "text/plain": [
       "<IPython.core.display.HTML object>"
      ]
     },
     "metadata": {},
     "output_type": "display_data"
    },
    {
     "name": "stdout",
     "output_type": "stream",
     "text": [
      "Number of images available: 250\n"
     ]
    }
   ],
   "source": [
    "# Count the number of images in the filtered collection\n",
    "image_count = filtered_images.size().getInfo()\n",
    "print(f\"Number of images available: {image_count}\")"
   ]
  },
  {
   "cell_type": "code",
   "execution_count": 10,
   "metadata": {},
   "outputs": [
    {
     "data": {
      "text/html": [
       "\n",
       "            <style>\n",
       "                .geemap-dark {\n",
       "                    --jp-widgets-color: white;\n",
       "                    --jp-widgets-label-color: white;\n",
       "                    --jp-ui-font-color1: white;\n",
       "                    --jp-layout-color2: #454545;\n",
       "                    background-color: #383838;\n",
       "                }\n",
       "\n",
       "                .geemap-dark .jupyter-button {\n",
       "                    --jp-layout-color3: #383838;\n",
       "                }\n",
       "\n",
       "                .geemap-colab {\n",
       "                    background-color: var(--colab-primary-surface-color, white);\n",
       "                }\n",
       "\n",
       "                .geemap-colab .jupyter-button {\n",
       "                    --jp-layout-color3: var(--colab-primary-surface-color, white);\n",
       "                }\n",
       "            </style>\n",
       "            "
      ],
      "text/plain": [
       "<IPython.core.display.HTML object>"
      ]
     },
     "metadata": {},
     "output_type": "display_data"
    },
    {
     "name": "stdout",
     "output_type": "stream",
     "text": [
      "Oldest image date: 2013-03-30\n",
      "Newest image date: 2024-08-04\n"
     ]
    }
   ],
   "source": [
    "# Get the oldest and newest images based on the 'system:time_start' property\n",
    "oldest_image = filtered_images.sort(\"system:time_start\").first()\n",
    "newest_image = filtered_images.sort(\"system:time_start\", False).first()\n",
    "\n",
    "# Get the dates of the oldest and newest images\n",
    "oldest_date = (\n",
    "    ee.Date(oldest_image.get(\"system:time_start\")).format(\"YYYY-MM-dd\").getInfo()\n",
    ")\n",
    "newest_date = (\n",
    "    ee.Date(newest_image.get(\"system:time_start\")).format(\"YYYY-MM-dd\").getInfo()\n",
    ")\n",
    "\n",
    "print(f\"Oldest image date: {oldest_date}\")\n",
    "print(f\"Newest image date: {newest_date}\")"
   ]
  },
  {
   "cell_type": "code",
   "execution_count": 11,
   "metadata": {},
   "outputs": [
    {
     "data": {
      "text/html": [
       "\n",
       "            <style>\n",
       "                .geemap-dark {\n",
       "                    --jp-widgets-color: white;\n",
       "                    --jp-widgets-label-color: white;\n",
       "                    --jp-ui-font-color1: white;\n",
       "                    --jp-layout-color2: #454545;\n",
       "                    background-color: #383838;\n",
       "                }\n",
       "\n",
       "                .geemap-dark .jupyter-button {\n",
       "                    --jp-layout-color3: #383838;\n",
       "                }\n",
       "\n",
       "                .geemap-colab {\n",
       "                    background-color: var(--colab-primary-surface-color, white);\n",
       "                }\n",
       "\n",
       "                .geemap-colab .jupyter-button {\n",
       "                    --jp-layout-color3: var(--colab-primary-surface-color, white);\n",
       "                }\n",
       "            </style>\n",
       "            "
      ],
      "text/plain": [
       "<IPython.core.display.HTML object>"
      ]
     },
     "metadata": {},
     "output_type": "display_data"
    }
   ],
   "source": [
    "# sierra madre\n",
    "\n",
    "aoi = ee.Geometry.Rectangle(\n",
    "    [-100.51304877876831, 28.708545044994917, -100.62115423654488, 25.009350725717105]\n",
    ")  ### Aquí van las coordenadas para el área"
   ]
  },
  {
   "cell_type": "code",
   "execution_count": 12,
   "metadata": {},
   "outputs": [
    {
     "data": {
      "text/html": [
       "\n",
       "            <style>\n",
       "                .geemap-dark {\n",
       "                    --jp-widgets-color: white;\n",
       "                    --jp-widgets-label-color: white;\n",
       "                    --jp-ui-font-color1: white;\n",
       "                    --jp-layout-color2: #454545;\n",
       "                    background-color: #383838;\n",
       "                }\n",
       "\n",
       "                .geemap-dark .jupyter-button {\n",
       "                    --jp-layout-color3: #383838;\n",
       "                }\n",
       "\n",
       "                .geemap-colab {\n",
       "                    background-color: var(--colab-primary-surface-color, white);\n",
       "                }\n",
       "\n",
       "                .geemap-colab .jupyter-button {\n",
       "                    --jp-layout-color3: var(--colab-primary-surface-color, white);\n",
       "                }\n",
       "            </style>\n",
       "            "
      ],
      "text/plain": [
       "<IPython.core.display.HTML object>"
      ]
     },
     "metadata": {},
     "output_type": "display_data"
    },
    {
     "name": "stdout",
     "output_type": "stream",
     "text": [
      "Number of images available: 1454\n",
      "Oldest image date: 2013-03-30\n",
      "Newest image date: 2024-08-11\n"
     ]
    }
   ],
   "source": [
    "# Filter the Image Collection by AOI\n",
    "filtered_images = img_set.filterBounds(aoi)\n",
    "\n",
    "# Count the number of images in the filtered collection\n",
    "image_count = filtered_images.size().getInfo()\n",
    "print(f\"Number of images available: {image_count}\")\n",
    "\n",
    "# Get the oldest and newest images based on the 'system:time_start' property\n",
    "oldest_image = filtered_images.sort(\"system:time_start\").first()\n",
    "newest_image = filtered_images.sort(\"system:time_start\", False).first()\n",
    "\n",
    "# Get the dates of the oldest and newest images\n",
    "oldest_date = (\n",
    "    ee.Date(oldest_image.get(\"system:time_start\")).format(\"YYYY-MM-dd\").getInfo()\n",
    ")\n",
    "newest_date = (\n",
    "    ee.Date(newest_image.get(\"system:time_start\")).format(\"YYYY-MM-dd\").getInfo()\n",
    ")\n",
    "\n",
    "print(f\"Oldest image date: {oldest_date}\")\n",
    "print(f\"Newest image date: {newest_date}\")"
   ]
  },
  {
   "cell_type": "markdown",
   "metadata": {},
   "source": [
    "---\n"
   ]
  },
  {
   "cell_type": "code",
   "execution_count": 1,
   "metadata": {},
   "outputs": [
    {
     "ename": "EEException",
     "evalue": "Request had insufficient authentication scopes.",
     "output_type": "error",
     "traceback": [
      "\u001b[0;31m---------------------------------------------------------------------------\u001b[0m",
      "\u001b[0;31mHttpError\u001b[0m                                 Traceback (most recent call last)",
      "File \u001b[0;32m~/Documents/tec/7_semestre/TopoAI/.venv/lib/python3.11/site-packages/ee/data.py:405\u001b[0m, in \u001b[0;36m_execute_cloud_call\u001b[0;34m(call, num_retries)\u001b[0m\n\u001b[1;32m    404\u001b[0m \u001b[38;5;28;01mtry\u001b[39;00m:\n\u001b[0;32m--> 405\u001b[0m   \u001b[38;5;28;01mreturn\u001b[39;00m \u001b[43mcall\u001b[49m\u001b[38;5;241;43m.\u001b[39;49m\u001b[43mexecute\u001b[49m\u001b[43m(\u001b[49m\u001b[43mnum_retries\u001b[49m\u001b[38;5;241;43m=\u001b[39;49m\u001b[43mnum_retries\u001b[49m\u001b[43m)\u001b[49m\n\u001b[1;32m    406\u001b[0m \u001b[38;5;28;01mexcept\u001b[39;00m googleapiclient\u001b[38;5;241m.\u001b[39merrors\u001b[38;5;241m.\u001b[39mHttpError \u001b[38;5;28;01mas\u001b[39;00m e:\n",
      "File \u001b[0;32m~/Documents/tec/7_semestre/TopoAI/.venv/lib/python3.11/site-packages/googleapiclient/_helpers.py:130\u001b[0m, in \u001b[0;36mpositional.<locals>.positional_decorator.<locals>.positional_wrapper\u001b[0;34m(*args, **kwargs)\u001b[0m\n\u001b[1;32m    129\u001b[0m         logger\u001b[38;5;241m.\u001b[39mwarning(message)\n\u001b[0;32m--> 130\u001b[0m \u001b[38;5;28;01mreturn\u001b[39;00m \u001b[43mwrapped\u001b[49m\u001b[43m(\u001b[49m\u001b[38;5;241;43m*\u001b[39;49m\u001b[43margs\u001b[49m\u001b[43m,\u001b[49m\u001b[43m \u001b[49m\u001b[38;5;241;43m*\u001b[39;49m\u001b[38;5;241;43m*\u001b[39;49m\u001b[43mkwargs\u001b[49m\u001b[43m)\u001b[49m\n",
      "File \u001b[0;32m~/Documents/tec/7_semestre/TopoAI/.venv/lib/python3.11/site-packages/googleapiclient/http.py:938\u001b[0m, in \u001b[0;36mHttpRequest.execute\u001b[0;34m(self, http, num_retries)\u001b[0m\n\u001b[1;32m    937\u001b[0m \u001b[38;5;28;01mif\u001b[39;00m resp\u001b[38;5;241m.\u001b[39mstatus \u001b[38;5;241m>\u001b[39m\u001b[38;5;241m=\u001b[39m \u001b[38;5;241m300\u001b[39m:\n\u001b[0;32m--> 938\u001b[0m     \u001b[38;5;28;01mraise\u001b[39;00m HttpError(resp, content, uri\u001b[38;5;241m=\u001b[39m\u001b[38;5;28mself\u001b[39m\u001b[38;5;241m.\u001b[39muri)\n\u001b[1;32m    939\u001b[0m \u001b[38;5;28;01mreturn\u001b[39;00m \u001b[38;5;28mself\u001b[39m\u001b[38;5;241m.\u001b[39mpostproc(resp, content)\n",
      "\u001b[0;31mHttpError\u001b[0m: <HttpError 403 when requesting https://earthengine.googleapis.com/v1/projects/ee-a01571000/table:export?alt=json returned \"Request had insufficient authentication scopes.\". Details: \"[{'@type': 'type.googleapis.com/google.rpc.ErrorInfo', 'reason': 'ACCESS_TOKEN_SCOPE_INSUFFICIENT', 'domain': 'googleapis.com', 'metadata': {'service': 'earthengine.googleapis.com', 'method': 'google.earthengine.v1.EarthEngine.ExportTable'}}]\">",
      "\nDuring handling of the above exception, another exception occurred:\n",
      "\u001b[0;31mEEException\u001b[0m                               Traceback (most recent call last)",
      "Cell \u001b[0;32mIn[1], line 119\u001b[0m\n\u001b[1;32m    113\u001b[0m \u001b[38;5;66;03m# 4. Export multiple daily NDVI and NDWI values as CSV file format\u001b[39;00m\n\u001b[1;32m    114\u001b[0m task \u001b[38;5;241m=\u001b[39m ee\u001b[38;5;241m.\u001b[39mbatch\u001b[38;5;241m.\u001b[39mExport\u001b[38;5;241m.\u001b[39mtable\u001b[38;5;241m.\u001b[39mtoDrive(\n\u001b[1;32m    115\u001b[0m     collection\u001b[38;5;241m=\u001b[39mcombinedIndices,\n\u001b[1;32m    116\u001b[0m     description\u001b[38;5;241m=\u001b[39m\u001b[38;5;124m\"\u001b[39m\u001b[38;5;124mNDVI_NDWI_Metropolitana_2015_2016_MultiPoint\u001b[39m\u001b[38;5;124m\"\u001b[39m,\n\u001b[1;32m    117\u001b[0m     fileFormat\u001b[38;5;241m=\u001b[39m\u001b[38;5;124m\"\u001b[39m\u001b[38;5;124mCSV\u001b[39m\u001b[38;5;124m\"\u001b[39m,\n\u001b[1;32m    118\u001b[0m )\n\u001b[0;32m--> 119\u001b[0m \u001b[43mtask\u001b[49m\u001b[38;5;241;43m.\u001b[39;49m\u001b[43mstart\u001b[49m\u001b[43m(\u001b[49m\u001b[43m)\u001b[49m\n\u001b[1;32m    121\u001b[0m \u001b[38;5;66;03m# Display the map1\u001b[39;00m\n\u001b[1;32m    122\u001b[0m Map\n",
      "File \u001b[0;32m~/Documents/tec/7_semestre/TopoAI/.venv/lib/python3.11/site-packages/ee/batch.py:149\u001b[0m, in \u001b[0;36mTask.start\u001b[0;34m(self)\u001b[0m\n\u001b[1;32m    147\u001b[0m   result \u001b[38;5;241m=\u001b[39m data\u001b[38;5;241m.\u001b[39mexportMap(\u001b[38;5;28mself\u001b[39m\u001b[38;5;241m.\u001b[39m_request_id, \u001b[38;5;28mself\u001b[39m\u001b[38;5;241m.\u001b[39mconfig)\n\u001b[1;32m    148\u001b[0m \u001b[38;5;28;01melif\u001b[39;00m \u001b[38;5;28mself\u001b[39m\u001b[38;5;241m.\u001b[39mtask_type \u001b[38;5;241m==\u001b[39m Task\u001b[38;5;241m.\u001b[39mType\u001b[38;5;241m.\u001b[39mEXPORT_TABLE:\n\u001b[0;32m--> 149\u001b[0m   result \u001b[38;5;241m=\u001b[39m \u001b[43mdata\u001b[49m\u001b[38;5;241;43m.\u001b[39;49m\u001b[43mexportTable\u001b[49m\u001b[43m(\u001b[49m\u001b[38;5;28;43mself\u001b[39;49m\u001b[38;5;241;43m.\u001b[39;49m\u001b[43m_request_id\u001b[49m\u001b[43m,\u001b[49m\u001b[43m \u001b[49m\u001b[38;5;28;43mself\u001b[39;49m\u001b[38;5;241;43m.\u001b[39;49m\u001b[43mconfig\u001b[49m\u001b[43m)\u001b[49m\n\u001b[1;32m    150\u001b[0m \u001b[38;5;28;01melif\u001b[39;00m \u001b[38;5;28mself\u001b[39m\u001b[38;5;241m.\u001b[39mtask_type \u001b[38;5;241m==\u001b[39m Task\u001b[38;5;241m.\u001b[39mType\u001b[38;5;241m.\u001b[39mEXPORT_VIDEO:\n\u001b[1;32m    151\u001b[0m   result \u001b[38;5;241m=\u001b[39m data\u001b[38;5;241m.\u001b[39mexportVideo(\u001b[38;5;28mself\u001b[39m\u001b[38;5;241m.\u001b[39m_request_id, \u001b[38;5;28mself\u001b[39m\u001b[38;5;241m.\u001b[39mconfig)\n",
      "File \u001b[0;32m~/Documents/tec/7_semestre/TopoAI/.venv/lib/python3.11/site-packages/ee/data.py:1789\u001b[0m, in \u001b[0;36mexportTable\u001b[0;34m(request_id, params)\u001b[0m\n\u001b[1;32m   1768\u001b[0m \u001b[38;5;250m\u001b[39m\u001b[38;5;124;03m\"\"\"Starts a table export task running.\u001b[39;00m\n\u001b[1;32m   1769\u001b[0m \n\u001b[1;32m   1770\u001b[0m \u001b[38;5;124;03mThis is a low-level method. The higher-level ee.batch.Export.table object\u001b[39;00m\n\u001b[0;32m   (...)\u001b[0m\n\u001b[1;32m   1786\u001b[0m \u001b[38;5;124;03m  If you are using the cloud API, this will be an Operation.\u001b[39;00m\n\u001b[1;32m   1787\u001b[0m \u001b[38;5;124;03m\"\"\"\u001b[39;00m\n\u001b[1;32m   1788\u001b[0m params \u001b[38;5;241m=\u001b[39m params\u001b[38;5;241m.\u001b[39mcopy()\n\u001b[0;32m-> 1789\u001b[0m \u001b[38;5;28;01mreturn\u001b[39;00m \u001b[43m_prepare_and_run_export\u001b[49m\u001b[43m(\u001b[49m\n\u001b[1;32m   1790\u001b[0m \u001b[43m    \u001b[49m\u001b[43mrequest_id\u001b[49m\u001b[43m,\u001b[49m\u001b[43m \u001b[49m\u001b[43mparams\u001b[49m\u001b[43m,\u001b[49m\u001b[43m \u001b[49m\u001b[43m_get_cloud_projects\u001b[49m\u001b[43m(\u001b[49m\u001b[43m)\u001b[49m\u001b[38;5;241;43m.\u001b[39;49m\u001b[43mtable\u001b[49m\u001b[43m(\u001b[49m\u001b[43m)\u001b[49m\u001b[38;5;241;43m.\u001b[39;49m\u001b[43mexport\u001b[49m\n\u001b[1;32m   1791\u001b[0m \u001b[43m\u001b[49m\u001b[43m)\u001b[49m\n",
      "File \u001b[0;32m~/Documents/tec/7_semestre/TopoAI/.venv/lib/python3.11/site-packages/ee/data.py:1906\u001b[0m, in \u001b[0;36m_prepare_and_run_export\u001b[0;34m(request_id, params, export_endpoint)\u001b[0m\n\u001b[1;32m   1903\u001b[0m   params[\u001b[38;5;124m'\u001b[39m\u001b[38;5;124mexpression\u001b[39m\u001b[38;5;124m'\u001b[39m] \u001b[38;5;241m=\u001b[39m serializer\u001b[38;5;241m.\u001b[39mencode(\n\u001b[1;32m   1904\u001b[0m       params[\u001b[38;5;124m'\u001b[39m\u001b[38;5;124mexpression\u001b[39m\u001b[38;5;124m'\u001b[39m], for_cloud_api\u001b[38;5;241m=\u001b[39m\u001b[38;5;28;01mTrue\u001b[39;00m)\n\u001b[1;32m   1905\u001b[0m num_retries \u001b[38;5;241m=\u001b[39m _max_retries \u001b[38;5;28;01mif\u001b[39;00m request_id \u001b[38;5;28;01melse\u001b[39;00m \u001b[38;5;241m0\u001b[39m\n\u001b[0;32m-> 1906\u001b[0m \u001b[38;5;28;01mreturn\u001b[39;00m \u001b[43m_execute_cloud_call\u001b[49m\u001b[43m(\u001b[49m\n\u001b[1;32m   1907\u001b[0m \u001b[43m    \u001b[49m\u001b[43mexport_endpoint\u001b[49m\u001b[43m(\u001b[49m\u001b[43mproject\u001b[49m\u001b[38;5;241;43m=\u001b[39;49m\u001b[43m_get_projects_path\u001b[49m\u001b[43m(\u001b[49m\u001b[43m)\u001b[49m\u001b[43m,\u001b[49m\u001b[43m \u001b[49m\u001b[43mbody\u001b[49m\u001b[38;5;241;43m=\u001b[39;49m\u001b[43mparams\u001b[49m\u001b[43m)\u001b[49m\u001b[43m,\u001b[49m\n\u001b[1;32m   1908\u001b[0m \u001b[43m    \u001b[49m\u001b[43mnum_retries\u001b[49m\u001b[38;5;241;43m=\u001b[39;49m\u001b[43mnum_retries\u001b[49m\u001b[43m)\u001b[49m\n",
      "File \u001b[0;32m~/Documents/tec/7_semestre/TopoAI/.venv/lib/python3.11/site-packages/ee/data.py:407\u001b[0m, in \u001b[0;36m_execute_cloud_call\u001b[0;34m(call, num_retries)\u001b[0m\n\u001b[1;32m    405\u001b[0m   \u001b[38;5;28;01mreturn\u001b[39;00m call\u001b[38;5;241m.\u001b[39mexecute(num_retries\u001b[38;5;241m=\u001b[39mnum_retries)\n\u001b[1;32m    406\u001b[0m \u001b[38;5;28;01mexcept\u001b[39;00m googleapiclient\u001b[38;5;241m.\u001b[39merrors\u001b[38;5;241m.\u001b[39mHttpError \u001b[38;5;28;01mas\u001b[39;00m e:\n\u001b[0;32m--> 407\u001b[0m   \u001b[38;5;28;01mraise\u001b[39;00m _translate_cloud_exception(e)\n",
      "\u001b[0;31mEEException\u001b[0m: Request had insufficient authentication scopes."
     ]
    }
   ],
   "source": [
    "import ee\n",
    "import geemap\n",
    "\n",
    "# Initialize the Earth Engine module\n",
    "ee.Initialize()\n",
    "\n",
    "# 1. Define the metropolitan area of Monterrey as an irregular polygon\n",
    "municipiosNL = ee.Geometry.Polygon(\n",
    "    [\n",
    "        [\n",
    "            [-100.65428082497156, 25.81134530084762],\n",
    "            [-100.63093487770594, 25.78414399068067],\n",
    "            [-100.60346905739344, 25.76312052244206],\n",
    "            [-100.56639019997156, 25.745804281929864],\n",
    "            [-100.55265728981531, 25.713638853635366],\n",
    "            [-100.51557843239344, 25.677751768677517],\n",
    "            [-100.47712628395594, 25.654233678434196],\n",
    "            [-100.44004742653406, 25.63690159177746],\n",
    "            [-100.39884869606531, 25.624519989070617],\n",
    "            [-100.36451642067469, 25.608421986781007],\n",
    "            [-100.35353009254969, 25.620805257955187],\n",
    "            [-100.32057110817469, 25.600991408244408],\n",
    "            [-100.31095807106531, 25.607183589095406],\n",
    "            [-100.29173199684656, 25.583651596106016],\n",
    "            [-100.27250592262781, 25.55763716681249],\n",
    "            [-100.24778668434656, 25.531617087891878],\n",
    "            [-100.23268048317469, 25.51922458962456],\n",
    "            [-100.21620099098719, 25.505591363484715],\n",
    "            [-100.21208111794031, 25.489477373426162],\n",
    "            [-100.19972149879969, 25.467162127706185],\n",
    "            [-100.17912213356531, 25.444842741832048],\n",
    "            [-100.14753644020594, 25.41755787381967],\n",
    "            [-100.13517682106531, 25.427480358833368],\n",
    "            [-100.13655011208094, 25.44732287796649],\n",
    "            [-100.14478985817469, 25.478320268249043],\n",
    "            [-100.15989605934656, 25.503112428780174],\n",
    "            [-100.17637555153406, 25.517985269406477],\n",
    "            [-100.18873517067469, 25.53905197240615],\n",
    "            [-100.19972149879969, 25.563831591141756],\n",
    "            [-100.22032086403406, 25.58241294192919],\n",
    "            [-100.23954693825281, 25.613375449226528],\n",
    "            [-100.24915997536219, 25.630710950889764],\n",
    "            [-100.23817364723719, 25.644329937134838],\n",
    "            [-100.21620099098719, 25.6257582071063],\n",
    "            [-100.19972149879969, 25.614613782761456],\n",
    "            [-100.18186871559656, 25.59851444611489],\n",
    "            [-100.15852276833094, 25.591083251924452],\n",
    "            [-100.13105694801844, 25.591083251924452],\n",
    "            [-100.10084454567469, 25.59851444611489],\n",
    "            [-100.08436505348719, 25.600991408244408],\n",
    "            [-100.06788556129969, 25.60966037163737],\n",
    "            [-100.04865948708094, 25.634425373937738],\n",
    "            [-100.04865948708094, 25.646805949521493],\n",
    "            [-100.06101910622156, 25.66784998029764],\n",
    "            [-100.06925885231531, 25.683939968669435],\n",
    "            [-100.08299176247156, 25.6950779186662],\n",
    "            [-100.11869732887781, 25.706214826973344],\n",
    "            [-100.12281720192469, 25.730959780965613],\n",
    "            [-100.11320416481531, 25.75446271778581],\n",
    "            [-100.10221783669031, 25.77177769574695],\n",
    "            [-100.10084454567469, 25.792799630072714],\n",
    "            [-100.12281720192469, 25.795272553847752],\n",
    "            [-100.13929669411219, 25.81381783765045],\n",
    "            [-100.16401593239344, 25.81505408669786],\n",
    "            [-100.22169415504969, 25.852135556122242],\n",
    "            [-100.25190655739344, 25.848427932100922],\n",
    "            [-100.28349225075281, 25.828651974506997],\n",
    "            [-100.30958478004969, 25.83730436266618],\n",
    "            [-100.34803692848719, 25.83359627377059],\n",
    "            [-100.35764996559656, 25.85089969436436],\n",
    "            [-100.37687603981531, 25.866964889605928],\n",
    "            [-100.41120831520594, 25.86325773064898],\n",
    "            [-100.41944806129969, 25.83112414995678],\n",
    "            [-100.47437970192469, 25.83112414995678],\n",
    "            [-100.49085919411219, 25.803927380806673],\n",
    "            [-100.55540387184656, 25.842248300434843],\n",
    "            [-100.65290753395594, 25.849663819690427],\n",
    "            [-100.65428082497156, 25.81134530084762],\n",
    "        ]\n",
    "    ]\n",
    ")\n",
    "\n",
    "# Create a map\n",
    "Map = geemap.Map(center=[25.6715, -100.309], zoom=10)\n",
    "\n",
    "# Add the metropolitan area polygon to the map\n",
    "Map.addLayer(municipiosNL, {}, \"Monterrey Metropolitan Area\")\n",
    "Map.centerObject(municipiosNL)\n",
    "\n",
    "points = ee.FeatureCollection.randomPoints(\n",
    "    region=municipiosNL,\n",
    "    points=100_000,\n",
    "    seed=0,\n",
    "    maxError=1,\n",
    ")\n",
    "\n",
    "\n",
    "Map.addLayer(points, {\"color\": \"red\"}, \"Random Points\")\n",
    "\n",
    "# 3. Daily NDVI and NDWI Summary for Monterrey Metropolitan Area (2015-2016)\n",
    "# NDVI Collection\n",
    "modisNDVI = (\n",
    "    ee.ImageCollection(\"MODIS/MOD09GA_NDVI\")\n",
    "    .select(\"NDVI\")\n",
    "    .filterDate(\"2015-01-01\", \"2016-12-31\")\n",
    "    .map(\n",
    "        lambda img: img.set(\n",
    "            {\n",
    "                \"year\": ee.Date(img.get(\"system:time_start\")).get(\"year\"),\n",
    "                \"month\": ee.Date(img.get(\"system:time_start\")).get(\"month\"),\n",
    "                \"day\": ee.Date(img.get(\"system:time_start\")).get(\"day\"),\n",
    "                \"date\": ee.Date(img.get(\"system:time_start\")),\n",
    "            }\n",
    "        )\n",
    "    )\n",
    ")\n",
    "\n",
    "# NDWI Collection\n",
    "modisNDWI = (\n",
    "    ee.ImageCollection(\"MODIS/MOD09GA_006_NDWI\")\n",
    "    .select(\"NDWI\")\n",
    "    .filterDate(\"2015-01-01\", \"2016-12-31\")\n",
    "    .map(\n",
    "        lambda img: img.set(\n",
    "            {\n",
    "                \"year\": ee.Date(img.get(\"system:time_start\")).get(\"year\"),\n",
    "                \"month\": ee.Date(img.get(\"system:time_start\")).get(\"month\"),\n",
    "                \"day\": ee.Date(img.get(\"system:time_start\")).get(\"day\"),\n",
    "                \"date\": ee.Date(img.get(\"system:time_start\")),\n",
    "            }\n",
    "        )\n",
    "    )\n",
    ")\n",
    "\n",
    "\n",
    "# Combine NDVI and NDWI values for each point\n",
    "def combine_indices(ndviImg):\n",
    "    correspondingNdwiImg = modisNDWI.filter(\n",
    "        ee.Filter.eq(\"date\", ndviImg.get(\"date\"))\n",
    "    ).first()\n",
    "    return points.map(\n",
    "        lambda point: ee.Feature(\n",
    "            point.geometry(),\n",
    "            {\n",
    "                \"date\": ndviImg.get(\"date\"),\n",
    "                \"year\": ndviImg.get(\"year\"),\n",
    "                \"month\": ndviImg.get(\"month\"),\n",
    "                \"day\": ndviImg.get(\"day\"),\n",
    "                \"NDVI\": ndviImg.reduceRegion(\n",
    "                    reducer=ee.Reducer.mean(),\n",
    "                    geometry=point.geometry(),\n",
    "                    scale=500,\n",
    "                    bestEffort=True,\n",
    "                    maxPixels=1e8,\n",
    "                ).get(\"NDVI\"),\n",
    "                \"NDWI\": correspondingNdwiImg.reduceRegion(\n",
    "                    reducer=ee.Reducer.mean(),\n",
    "                    geometry=point.geometry(),\n",
    "                    scale=500,\n",
    "                    bestEffort=True,\n",
    "                    maxPixels=1e8,\n",
    "                ).get(\"NDWI\"),\n",
    "            },\n",
    "        )\n",
    "    )\n",
    "\n",
    "\n",
    "combinedIndices = (\n",
    "    modisNDVI.map(combine_indices).flatten().filter(ee.Filter.notNull([\"NDVI\", \"NDWI\"]))\n",
    ")\n",
    "\n",
    "# 4. Export multiple daily NDVI and NDWI values as CSV file format\n",
    "task = ee.batch.Export.table.toDrive(\n",
    "    collection=combinedIndices,\n",
    "    description=\"NDVI_NDWI_Metropolitana_2015_2016_MultiPoint\",\n",
    "    fileFormat=\"CSV\",\n",
    ")\n",
    "task.start()\n",
    "\n",
    "# Display the map1\n",
    "Map"
   ]
  }
 ],
 "metadata": {
  "kernelspec": {
   "display_name": ".venv",
   "language": "python",
   "name": "python3"
  },
  "language_info": {
   "codemirror_mode": {
    "name": "ipython",
    "version": 3
   },
   "file_extension": ".py",
   "mimetype": "text/x-python",
   "name": "python",
   "nbconvert_exporter": "python",
   "pygments_lexer": "ipython3",
   "version": "3.11.9"
  }
 },
 "nbformat": 4,
 "nbformat_minor": 2
}
