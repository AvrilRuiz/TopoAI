{
 "cells": [
  {
   "cell_type": "code",
   "execution_count": 1,
   "metadata": {},
   "outputs": [],
   "source": [
    "%load_ext autoreload\n",
    "%autoreload 2"
   ]
  },
  {
   "cell_type": "code",
   "execution_count": 14,
   "metadata": {},
   "outputs": [
    {
     "data": {
      "text/html": [
       "\n",
       "            <style>\n",
       "                .geemap-dark {\n",
       "                    --jp-widgets-color: white;\n",
       "                    --jp-widgets-label-color: white;\n",
       "                    --jp-ui-font-color1: white;\n",
       "                    --jp-layout-color2: #454545;\n",
       "                    background-color: #383838;\n",
       "                }\n",
       "\n",
       "                .geemap-dark .jupyter-button {\n",
       "                    --jp-layout-color3: #383838;\n",
       "                }\n",
       "\n",
       "                .geemap-colab {\n",
       "                    background-color: var(--colab-primary-surface-color, white);\n",
       "                }\n",
       "\n",
       "                .geemap-colab .jupyter-button {\n",
       "                    --jp-layout-color3: var(--colab-primary-surface-color, white);\n",
       "                }\n",
       "            </style>\n",
       "            "
      ],
      "text/plain": [
       "<IPython.core.display.HTML object>"
      ]
     },
     "metadata": {},
     "output_type": "display_data"
    },
    {
     "name": "stdout",
     "output_type": "stream",
     "text": [
      "Succesful connection to Google Earth Engine!\n"
     ]
    }
   ],
   "source": [
    "import ee\n",
    "import geemap\n",
    "\n",
    "PROJECT_ID = \"ee-a01571000\"\n",
    "\n",
    "ee.Authenticate()\n",
    "ee.Initialize(project=PROJECT_ID)\n",
    "\n",
    "print(ee.String(\"Succesful connection to Google Earth Engine!\").getInfo())  # type: ignore"
   ]
  },
  {
   "cell_type": "code",
   "execution_count": 4,
   "metadata": {},
   "outputs": [
    {
     "data": {
      "text/html": [
       "\n",
       "            <style>\n",
       "                .geemap-dark {\n",
       "                    --jp-widgets-color: white;\n",
       "                    --jp-widgets-label-color: white;\n",
       "                    --jp-ui-font-color1: white;\n",
       "                    --jp-layout-color2: #454545;\n",
       "                    background-color: #383838;\n",
       "                }\n",
       "\n",
       "                .geemap-dark .jupyter-button {\n",
       "                    --jp-layout-color3: #383838;\n",
       "                }\n",
       "\n",
       "                .geemap-colab {\n",
       "                    background-color: var(--colab-primary-surface-color, white);\n",
       "                }\n",
       "\n",
       "                .geemap-colab .jupyter-button {\n",
       "                    --jp-layout-color3: var(--colab-primary-surface-color, white);\n",
       "                }\n",
       "            </style>\n",
       "            "
      ],
      "text/plain": [
       "<IPython.core.display.HTML object>"
      ]
     },
     "metadata": {},
     "output_type": "display_data"
    },
    {
     "data": {
      "application/vnd.jupyter.widget-view+json": {
       "model_id": "aa0c903b91464bd0875ed0dae1ee0525",
       "version_major": 2,
       "version_minor": 0
      },
      "text/plain": [
       "Map(center=[0, 0], controls=(WidgetControl(options=['position', 'transparent_bg'], widget=SearchDataGUI(childr…"
      ]
     },
     "execution_count": 4,
     "metadata": {},
     "output_type": "execute_result"
    }
   ],
   "source": [
    "map = geemap.Map()\n",
    "map"
   ]
  },
  {
   "cell_type": "code",
   "execution_count": 4,
   "metadata": {},
   "outputs": [
    {
     "data": {
      "text/html": [
       "\n",
       "            <style>\n",
       "                .geemap-dark {\n",
       "                    --jp-widgets-color: white;\n",
       "                    --jp-widgets-label-color: white;\n",
       "                    --jp-ui-font-color1: white;\n",
       "                    --jp-layout-color2: #454545;\n",
       "                    background-color: #383838;\n",
       "                }\n",
       "\n",
       "                .geemap-dark .jupyter-button {\n",
       "                    --jp-layout-color3: #383838;\n",
       "                }\n",
       "\n",
       "                .geemap-colab {\n",
       "                    background-color: var(--colab-primary-surface-color, white);\n",
       "                }\n",
       "\n",
       "                .geemap-colab .jupyter-button {\n",
       "                    --jp-layout-color3: var(--colab-primary-surface-color, white);\n",
       "                }\n",
       "            </style>\n",
       "            "
      ],
      "text/plain": [
       "<IPython.core.display.HTML object>"
      ]
     },
     "metadata": {},
     "output_type": "display_data"
    }
   ],
   "source": [
    "# Dataset de imágenes obtenido de\n",
    "# https://developers.google.com/earth-engine/datasets/catalog/LANDSAT_LC08_C02_T1#description\n",
    "\n",
    "img_set = ee.ImageCollection(\"LANDSAT/LC08/C02/T1\")  # type: ignore\n",
    "bands = img_set.select([\"B4\", \"B3\", \"B5\"])\n",
    "\n",
    "# B3 - Green\n",
    "# B4 - Red\n",
    "# B5 - NIR (Near Infrared)\n",
    "\n",
    "# Parece que normalmente la variable L (factor de ajuste del suelo) se pone como L = 0.5\n",
    "# según en la página 4 https://catalogos.conae.gov.ar/landsat8/Docs/IndicesEspectralesDerivadosDeLandsat8.pdf\n",
    "\n",
    "visualization = {\n",
    "    min: 0.0,\n",
    "    max: 30000.0,\n",
    "}\n",
    "\n",
    "# Actualizar el mapa interactivo\n",
    "map.setCenter(-100.4, 25.73, 10)\n",
    "map.addLayer(bands, visualization, \"Green + Red + NIR\")"
   ]
  },
  {
   "cell_type": "code",
   "execution_count": 5,
   "metadata": {},
   "outputs": [
    {
     "data": {
      "text/html": [
       "\n",
       "            <style>\n",
       "                .geemap-dark {\n",
       "                    --jp-widgets-color: white;\n",
       "                    --jp-widgets-label-color: white;\n",
       "                    --jp-ui-font-color1: white;\n",
       "                    --jp-layout-color2: #454545;\n",
       "                    background-color: #383838;\n",
       "                }\n",
       "\n",
       "                .geemap-dark .jupyter-button {\n",
       "                    --jp-layout-color3: #383838;\n",
       "                }\n",
       "\n",
       "                .geemap-colab {\n",
       "                    background-color: var(--colab-primary-surface-color, white);\n",
       "                }\n",
       "\n",
       "                .geemap-colab .jupyter-button {\n",
       "                    --jp-layout-color3: var(--colab-primary-surface-color, white);\n",
       "                }\n",
       "            </style>\n",
       "            "
      ],
      "text/plain": [
       "<IPython.core.display.HTML object>"
      ]
     },
     "metadata": {},
     "output_type": "display_data"
    }
   ],
   "source": [
    "# Define the Area of Interest (AOI)\n",
    "# lat, long de esquina abajo izquiera y lat, long de esquina arriba derecha\n",
    "# Se crea un triangulo con estos dos puntos, siendo la área\n",
    "\n",
    "aoi = ee.Geometry.Rectangle(\n",
    "    [-100.3543, 25.5664, -100.3049, 25.5989]\n",
    ")  ### Aquí van las coordenadas para el área"
   ]
  },
  {
   "cell_type": "code",
   "execution_count": 9,
   "metadata": {},
   "outputs": [
    {
     "data": {
      "text/html": [
       "\n",
       "            <style>\n",
       "                .geemap-dark {\n",
       "                    --jp-widgets-color: white;\n",
       "                    --jp-widgets-label-color: white;\n",
       "                    --jp-ui-font-color1: white;\n",
       "                    --jp-layout-color2: #454545;\n",
       "                    background-color: #383838;\n",
       "                }\n",
       "\n",
       "                .geemap-dark .jupyter-button {\n",
       "                    --jp-layout-color3: #383838;\n",
       "                }\n",
       "\n",
       "                .geemap-colab {\n",
       "                    background-color: var(--colab-primary-surface-color, white);\n",
       "                }\n",
       "\n",
       "                .geemap-colab .jupyter-button {\n",
       "                    --jp-layout-color3: var(--colab-primary-surface-color, white);\n",
       "                }\n",
       "            </style>\n",
       "            "
      ],
      "text/plain": [
       "<IPython.core.display.HTML object>"
      ]
     },
     "metadata": {},
     "output_type": "display_data"
    }
   ],
   "source": [
    "# area metropolitana\n",
    "\n",
    "aoi = ee.Geometry.Rectangle(\n",
    "    [-100.432833, 25.616853, -100.124592, 25.838453]\n",
    ")  ### Aquí van las coordenadas para el área"
   ]
  },
  {
   "cell_type": "code",
   "execution_count": 10,
   "metadata": {},
   "outputs": [
    {
     "data": {
      "text/html": [
       "\n",
       "            <style>\n",
       "                .geemap-dark {\n",
       "                    --jp-widgets-color: white;\n",
       "                    --jp-widgets-label-color: white;\n",
       "                    --jp-ui-font-color1: white;\n",
       "                    --jp-layout-color2: #454545;\n",
       "                    background-color: #383838;\n",
       "                }\n",
       "\n",
       "                .geemap-dark .jupyter-button {\n",
       "                    --jp-layout-color3: #383838;\n",
       "                }\n",
       "\n",
       "                .geemap-colab {\n",
       "                    background-color: var(--colab-primary-surface-color, white);\n",
       "                }\n",
       "\n",
       "                .geemap-colab .jupyter-button {\n",
       "                    --jp-layout-color3: var(--colab-primary-surface-color, white);\n",
       "                }\n",
       "            </style>\n",
       "            "
      ],
      "text/plain": [
       "<IPython.core.display.HTML object>"
      ]
     },
     "metadata": {},
     "output_type": "display_data"
    }
   ],
   "source": [
    "# Filter the Image Collection by AOI\n",
    "filtered_images = img_set.filterBounds(aoi)"
   ]
  },
  {
   "cell_type": "code",
   "execution_count": 11,
   "metadata": {},
   "outputs": [
    {
     "data": {
      "text/html": [
       "\n",
       "            <style>\n",
       "                .geemap-dark {\n",
       "                    --jp-widgets-color: white;\n",
       "                    --jp-widgets-label-color: white;\n",
       "                    --jp-ui-font-color1: white;\n",
       "                    --jp-layout-color2: #454545;\n",
       "                    background-color: #383838;\n",
       "                }\n",
       "\n",
       "                .geemap-dark .jupyter-button {\n",
       "                    --jp-layout-color3: #383838;\n",
       "                }\n",
       "\n",
       "                .geemap-colab {\n",
       "                    background-color: var(--colab-primary-surface-color, white);\n",
       "                }\n",
       "\n",
       "                .geemap-colab .jupyter-button {\n",
       "                    --jp-layout-color3: var(--colab-primary-surface-color, white);\n",
       "                }\n",
       "            </style>\n",
       "            "
      ],
      "text/plain": [
       "<IPython.core.display.HTML object>"
      ]
     },
     "metadata": {},
     "output_type": "display_data"
    },
    {
     "name": "stdout",
     "output_type": "stream",
     "text": [
      "Number of images available: 250\n"
     ]
    }
   ],
   "source": [
    "# Count the number of images in the filtered collection\n",
    "image_count = filtered_images.size().getInfo()\n",
    "print(f\"Number of images available: {image_count}\")"
   ]
  },
  {
   "cell_type": "code",
   "execution_count": 12,
   "metadata": {},
   "outputs": [
    {
     "data": {
      "text/html": [
       "\n",
       "            <style>\n",
       "                .geemap-dark {\n",
       "                    --jp-widgets-color: white;\n",
       "                    --jp-widgets-label-color: white;\n",
       "                    --jp-ui-font-color1: white;\n",
       "                    --jp-layout-color2: #454545;\n",
       "                    background-color: #383838;\n",
       "                }\n",
       "\n",
       "                .geemap-dark .jupyter-button {\n",
       "                    --jp-layout-color3: #383838;\n",
       "                }\n",
       "\n",
       "                .geemap-colab {\n",
       "                    background-color: var(--colab-primary-surface-color, white);\n",
       "                }\n",
       "\n",
       "                .geemap-colab .jupyter-button {\n",
       "                    --jp-layout-color3: var(--colab-primary-surface-color, white);\n",
       "                }\n",
       "            </style>\n",
       "            "
      ],
      "text/plain": [
       "<IPython.core.display.HTML object>"
      ]
     },
     "metadata": {},
     "output_type": "display_data"
    },
    {
     "name": "stdout",
     "output_type": "stream",
     "text": [
      "Oldest image date: 2013-03-30\n",
      "Newest image date: 2024-08-04\n"
     ]
    }
   ],
   "source": [
    "# Get the oldest and newest images based on the 'system:time_start' property\n",
    "oldest_image = filtered_images.sort(\"system:time_start\").first()\n",
    "newest_image = filtered_images.sort(\"system:time_start\", False).first()\n",
    "\n",
    "# Get the dates of the oldest and newest images\n",
    "oldest_date = (\n",
    "    ee.Date(oldest_image.get(\"system:time_start\")).format(\"YYYY-MM-dd\").getInfo()\n",
    ")\n",
    "newest_date = (\n",
    "    ee.Date(newest_image.get(\"system:time_start\")).format(\"YYYY-MM-dd\").getInfo()\n",
    ")\n",
    "\n",
    "print(f\"Oldest image date: {oldest_date}\")\n",
    "print(f\"Newest image date: {newest_date}\")"
   ]
  },
  {
   "cell_type": "code",
   "execution_count": 15,
   "metadata": {},
   "outputs": [
    {
     "data": {
      "text/html": [
       "\n",
       "            <style>\n",
       "                .geemap-dark {\n",
       "                    --jp-widgets-color: white;\n",
       "                    --jp-widgets-label-color: white;\n",
       "                    --jp-ui-font-color1: white;\n",
       "                    --jp-layout-color2: #454545;\n",
       "                    background-color: #383838;\n",
       "                }\n",
       "\n",
       "                .geemap-dark .jupyter-button {\n",
       "                    --jp-layout-color3: #383838;\n",
       "                }\n",
       "\n",
       "                .geemap-colab {\n",
       "                    background-color: var(--colab-primary-surface-color, white);\n",
       "                }\n",
       "\n",
       "                .geemap-colab .jupyter-button {\n",
       "                    --jp-layout-color3: var(--colab-primary-surface-color, white);\n",
       "                }\n",
       "            </style>\n",
       "            "
      ],
      "text/plain": [
       "<IPython.core.display.HTML object>"
      ]
     },
     "metadata": {},
     "output_type": "display_data"
    }
   ],
   "source": [
    "# sierra madre\n",
    "\n",
    "aoi = ee.Geometry.Rectangle(\n",
    "    [-100.51304877876831, 28.708545044994917, -100.62115423654488, 25.009350725717105]\n",
    ")  ### Aquí van las coordenadas para el área"
   ]
  },
  {
   "cell_type": "code",
   "execution_count": 16,
   "metadata": {},
   "outputs": [
    {
     "data": {
      "text/html": [
       "\n",
       "            <style>\n",
       "                .geemap-dark {\n",
       "                    --jp-widgets-color: white;\n",
       "                    --jp-widgets-label-color: white;\n",
       "                    --jp-ui-font-color1: white;\n",
       "                    --jp-layout-color2: #454545;\n",
       "                    background-color: #383838;\n",
       "                }\n",
       "\n",
       "                .geemap-dark .jupyter-button {\n",
       "                    --jp-layout-color3: #383838;\n",
       "                }\n",
       "\n",
       "                .geemap-colab {\n",
       "                    background-color: var(--colab-primary-surface-color, white);\n",
       "                }\n",
       "\n",
       "                .geemap-colab .jupyter-button {\n",
       "                    --jp-layout-color3: var(--colab-primary-surface-color, white);\n",
       "                }\n",
       "            </style>\n",
       "            "
      ],
      "text/plain": [
       "<IPython.core.display.HTML object>"
      ]
     },
     "metadata": {},
     "output_type": "display_data"
    },
    {
     "name": "stdout",
     "output_type": "stream",
     "text": [
      "Number of images available: 1452\n",
      "Oldest image date: 2013-03-30\n",
      "Newest image date: 2024-08-04\n"
     ]
    }
   ],
   "source": [
    "# Filter the Image Collection by AOI\n",
    "filtered_images = img_set.filterBounds(aoi)\n",
    "\n",
    "# Count the number of images in the filtered collection\n",
    "image_count = filtered_images.size().getInfo()\n",
    "print(f\"Number of images available: {image_count}\")\n",
    "\n",
    "# Get the oldest and newest images based on the 'system:time_start' property\n",
    "oldest_image = filtered_images.sort(\"system:time_start\").first()\n",
    "newest_image = filtered_images.sort(\"system:time_start\", False).first()\n",
    "\n",
    "# Get the dates of the oldest and newest images\n",
    "oldest_date = (\n",
    "    ee.Date(oldest_image.get(\"system:time_start\")).format(\"YYYY-MM-dd\").getInfo()\n",
    ")\n",
    "newest_date = (\n",
    "    ee.Date(newest_image.get(\"system:time_start\")).format(\"YYYY-MM-dd\").getInfo()\n",
    ")\n",
    "\n",
    "print(f\"Oldest image date: {oldest_date}\")\n",
    "print(f\"Newest image date: {newest_date}\")"
   ]
  },
  {
   "cell_type": "markdown",
   "metadata": {},
   "source": [
    "---\n"
   ]
  },
  {
   "cell_type": "code",
   "execution_count": 22,
   "metadata": {},
   "outputs": [
    {
     "data": {
      "text/html": [
       "\n",
       "            <style>\n",
       "                .geemap-dark {\n",
       "                    --jp-widgets-color: white;\n",
       "                    --jp-widgets-label-color: white;\n",
       "                    --jp-ui-font-color1: white;\n",
       "                    --jp-layout-color2: #454545;\n",
       "                    background-color: #383838;\n",
       "                }\n",
       "\n",
       "                .geemap-dark .jupyter-button {\n",
       "                    --jp-layout-color3: #383838;\n",
       "                }\n",
       "\n",
       "                .geemap-colab {\n",
       "                    background-color: var(--colab-primary-surface-color, white);\n",
       "                }\n",
       "\n",
       "                .geemap-colab .jupyter-button {\n",
       "                    --jp-layout-color3: var(--colab-primary-surface-color, white);\n",
       "                }\n",
       "            </style>\n",
       "            "
      ],
      "text/plain": [
       "<IPython.core.display.HTML object>"
      ]
     },
     "metadata": {},
     "output_type": "display_data"
    },
    {
     "data": {
      "application/vnd.jupyter.widget-view+json": {
       "model_id": "100eeb592ce34d9db7443828f96cd2b6",
       "version_major": 2,
       "version_minor": 0
      },
      "text/plain": [
       "Map(center=[25.6715, -100.309], controls=(WidgetControl(options=['position', 'transparent_bg'], widget=SearchD…"
      ]
     },
     "execution_count": 22,
     "metadata": {},
     "output_type": "execute_result"
    }
   ],
   "source": [
    "import ee\n",
    "import geemap\n",
    "\n",
    "# Initialize the Earth Engine module\n",
    "ee.Initialize()\n",
    "\n",
    "# 1. Define the metropolitan area of Monterrey as an irregular polygon\n",
    "municipiosNL = ee.Geometry.Polygon(\n",
    "    [\n",
    "        [\n",
    "            [-100.4645, 25.9021],  # Apodaca\n",
    "            [-100.2631, 25.8704],  # Guadalupe\n",
    "            [-100.2122, 25.7810],  # Juárez\n",
    "            [-100.2510, 25.6191],  # Santiago\n",
    "            [-100.4528, 25.5653],  # Santa Catarina\n",
    "            [-100.5640, 25.6294],  # García\n",
    "            [-100.5806, 25.8335],  # García\n",
    "            [-100.5177, 25.9407],  # Escobedo\n",
    "            [-100.4645, 25.9021],  # Closing the polygon\n",
    "        ]\n",
    "    ]\n",
    ")\n",
    "\n",
    "# Create a map\n",
    "Map = geemap.Map(center=[25.6715, -100.309], zoom=10)\n",
    "\n",
    "# Add the metropolitan area polygon to the map\n",
    "Map.addLayer(municipiosNL, {}, \"Monterrey Metropolitan Area\")\n",
    "Map.centerObject(municipiosNL)\n",
    "\n",
    "points = ee.FeatureCollection.randomPoints(\n",
    "    region=municipiosNL,\n",
    "    points=100_000,\n",
    "    seed=0,\n",
    "    maxError=1,\n",
    ")\n",
    "\n",
    "\n",
    "Map.addLayer(points, {\"color\": \"red\"}, \"Random Points\")\n",
    "\n",
    "# 3. Daily NDVI and NDWI Summary for Monterrey Metropolitan Area (2015-2016)\n",
    "# NDVI Collection\n",
    "modisNDVI = (\n",
    "    ee.ImageCollection(\"MODIS/MOD09GA_NDVI\")\n",
    "    .select(\"NDVI\")\n",
    "    .filterDate(\"2015-01-01\", \"2016-12-31\")\n",
    "    .map(\n",
    "        lambda img: img.set(\n",
    "            {\n",
    "                \"year\": ee.Date(img.get(\"system:time_start\")).get(\"year\"),\n",
    "                \"month\": ee.Date(img.get(\"system:time_start\")).get(\"month\"),\n",
    "                \"day\": ee.Date(img.get(\"system:time_start\")).get(\"day\"),\n",
    "                \"date\": ee.Date(img.get(\"system:time_start\")),\n",
    "            }\n",
    "        )\n",
    "    )\n",
    ")\n",
    "\n",
    "# NDWI Collection\n",
    "modisNDWI = (\n",
    "    ee.ImageCollection(\"MODIS/MOD09GA_006_NDWI\")\n",
    "    .select(\"NDWI\")\n",
    "    .filterDate(\"2015-01-01\", \"2016-12-31\")\n",
    "    .map(\n",
    "        lambda img: img.set(\n",
    "            {\n",
    "                \"year\": ee.Date(img.get(\"system:time_start\")).get(\"year\"),\n",
    "                \"month\": ee.Date(img.get(\"system:time_start\")).get(\"month\"),\n",
    "                \"day\": ee.Date(img.get(\"system:time_start\")).get(\"day\"),\n",
    "                \"date\": ee.Date(img.get(\"system:time_start\")),\n",
    "            }\n",
    "        )\n",
    "    )\n",
    ")\n",
    "\n",
    "\n",
    "# Combine NDVI and NDWI values for each point\n",
    "def combine_indices(ndviImg):\n",
    "    correspondingNdwiImg = modisNDWI.filter(\n",
    "        ee.Filter.eq(\"date\", ndviImg.get(\"date\"))\n",
    "    ).first()\n",
    "    return points.map(\n",
    "        lambda point: ee.Feature(\n",
    "            point.geometry(),\n",
    "            {\n",
    "                \"date\": ndviImg.get(\"date\"),\n",
    "                \"year\": ndviImg.get(\"year\"),\n",
    "                \"month\": ndviImg.get(\"month\"),\n",
    "                \"day\": ndviImg.get(\"day\"),\n",
    "                \"NDVI\": ndviImg.reduceRegion(\n",
    "                    reducer=ee.Reducer.mean(),\n",
    "                    geometry=point.geometry(),\n",
    "                    scale=500,\n",
    "                    bestEffort=True,\n",
    "                    maxPixels=1e8,\n",
    "                ).get(\"NDVI\"),\n",
    "                \"NDWI\": correspondingNdwiImg.reduceRegion(\n",
    "                    reducer=ee.Reducer.mean(),\n",
    "                    geometry=point.geometry(),\n",
    "                    scale=500,\n",
    "                    bestEffort=True,\n",
    "                    maxPixels=1e8,\n",
    "                ).get(\"NDWI\"),\n",
    "            },\n",
    "        )\n",
    "    )\n",
    "\n",
    "\n",
    "combinedIndices = (\n",
    "    modisNDVI.map(combine_indices).flatten().filter(ee.Filter.notNull([\"NDVI\", \"NDWI\"]))\n",
    ")\n",
    "\n",
    "# 4. Export multiple daily NDVI and NDWI values as CSV file format\n",
    "# task = ee.batch.Export.table.toDrive(\n",
    "#     collection=combinedIndices,\n",
    "#     description=\"NDVI_NDWI_Metropolitana_2015_2016_MultiPoint\",\n",
    "#     fileFormat=\"CSV\",\n",
    "# )\n",
    "# task.start()\n",
    "\n",
    "# Display the map1\n",
    "Map"
   ]
  },
  {
   "cell_type": "code",
   "execution_count": 16,
   "metadata": {},
   "outputs": [
    {
     "data": {
      "text/html": [
       "\n",
       "            <style>\n",
       "                .geemap-dark {\n",
       "                    --jp-widgets-color: white;\n",
       "                    --jp-widgets-label-color: white;\n",
       "                    --jp-ui-font-color1: white;\n",
       "                    --jp-layout-color2: #454545;\n",
       "                    background-color: #383838;\n",
       "                }\n",
       "\n",
       "                .geemap-dark .jupyter-button {\n",
       "                    --jp-layout-color3: #383838;\n",
       "                }\n",
       "\n",
       "                .geemap-colab {\n",
       "                    background-color: var(--colab-primary-surface-color, white);\n",
       "                }\n",
       "\n",
       "                .geemap-colab .jupyter-button {\n",
       "                    --jp-layout-color3: var(--colab-primary-surface-color, white);\n",
       "                }\n",
       "            </style>\n",
       "            "
      ],
      "text/plain": [
       "<IPython.core.display.HTML object>"
      ]
     },
     "metadata": {},
     "output_type": "display_data"
    }
   ],
   "source": [
    "import google\n",
    "import google.oauth2.credentials\n",
    "from google.auth import compute_engine\n",
    "import google.auth.transport.requests\n",
    "\n",
    "\n",
    "def idtoken_from_metadata_server(url: str):\n",
    "    \"\"\"\n",
    "    Use the Google Cloud metadata server in the Cloud Run (or AppEngine or Kubernetes etc.,)\n",
    "    environment to create an identity token and add it to the HTTP request as part of an\n",
    "    Authorization header.\n",
    "\n",
    "    Args:\n",
    "        url: The url or target audience to obtain the ID token for.\n",
    "            Examples: http://www.example.com\n",
    "    \"\"\"\n",
    "\n",
    "    request = google.auth.transport.requests.Request()\n",
    "    # Set the target audience.\n",
    "    # Setting \"use_metadata_identity_endpoint\" to \"True\" will make the request use the default application\n",
    "    # credentials. Optionally, you can also specify a specific service account to use by mentioning\n",
    "    # the service_account_email.\n",
    "    credentials = compute_engine.IDTokenCredentials(\n",
    "        request=request, target_audience=url, use_metadata_identity_endpoint=True\n",
    "    )\n",
    "\n",
    "    # Get the ID token.\n",
    "    # Once you've obtained the ID token, use it to make an authenticated call\n",
    "    # to the target audience.\n",
    "    credentials.refresh(request)\n",
    "    # print(credentials.token)\n",
    "    print(\"Generated ID token.\")"
   ]
  }
 ],
 "metadata": {
  "kernelspec": {
   "display_name": ".venv",
   "language": "python",
   "name": "python3"
  },
  "language_info": {
   "codemirror_mode": {
    "name": "ipython",
    "version": 3
   },
   "file_extension": ".py",
   "mimetype": "text/x-python",
   "name": "python",
   "nbconvert_exporter": "python",
   "pygments_lexer": "ipython3",
   "version": "3.11.7"
  }
 },
 "nbformat": 4,
 "nbformat_minor": 2
}
